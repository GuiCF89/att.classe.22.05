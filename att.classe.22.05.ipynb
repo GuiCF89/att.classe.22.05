{
 "cells": [
  {
   "cell_type": "code",
   "execution_count": 5,
   "metadata": {},
   "outputs": [
    {
     "name": "stdout",
     "output_type": "stream",
     "text": [
      "5 patinhos foram passear, alem das montanhas para brincar, a mamae gritou: qua, qua, qua, qua, mas só 4 patinhos voltaram de lá.\n",
      "4 patinhos foram passear, alem das montanhas para brincar, a mamae gritou: qua, qua, qua, qua, mas só 3 patinhos voltaram de lá.\n",
      "3 patinhos foram passear, alem das montanhas para brincar, a mamae gritou: qua, qua, qua, qua, mas só 2 patinhos voltaram de lá.\n",
      "2 patinhos foram passear, alem das montanhas para brincar, a mamae gritou: qua, qua, qua, qua, mas só 1 patinhos voltaram de lá.\n",
      "1 patinho foi passear, alem das montanhas para brincar, a mamae gritou: qua, qua, qua, qua, mas nenhum patinho voltou de lá.\n"
     ]
    }
   ],
   "source": [
    "n = 5\n",
    "for elemento in range(n, 0, -1):\n",
    "    if elemento > 1:\n",
    "        print(elemento, \"patinhos foram passear, alem das montanhas para brincar, a mamae gritou: qua, qua, qua, qua, mas só\", elemento-1 , \"patinhos voltaram de lá.\")\n",
    "    else:\n",
    "        print(elemento, \"patinho foi passear, alem das montanhas para brincar, a mamae gritou: qua, qua, qua, qua, mas nenhum patinho voltou de lá.\")\n"
   ]
  },
  {
   "cell_type": "code",
   "execution_count": 41,
   "metadata": {},
   "outputs": [
    {
     "name": "stdout",
     "output_type": "stream",
     "text": [
      "1 elefante incomoda muita gente 2 elefantes incomodam muito mais\n",
      "2 elefante incomodam muita gente 3 elefantes incomodam incomodam  muito mais\n",
      "3 elefante incomodam muita gente 4 elefantes incomodam incomodam incomodam  muito mais\n",
      "4 elefante incomodam muita gente 5 elefantes incomodam incomodam incomodam incomodam  muito mais\n",
      "5 elefante incomodam muita gente 6 elefantes incomodam incomodam incomodam incomodam incomodam  muito mais\n",
      "6 elefante incomodam muita gente 7 elefantes incomodam incomodam incomodam incomodam incomodam incomodam  muito mais\n",
      "7 elefante incomodam muita gente 8 elefantes incomodam incomodam incomodam incomodam incomodam incomodam incomodam  muito mais\n",
      "8 elefante incomodam muita gente 9 elefantes incomodam incomodam incomodam incomodam incomodam incomodam incomodam incomodam  muito mais\n",
      "9 elefante incomodam muita gente 10 elefantes incomodam incomodam incomodam incomodam incomodam incomodam incomodam incomodam incomodam  muito mais\n"
     ]
    }
   ],
   "source": [
    "malditos = 1\n",
    "morte = 'incomodam '\n",
    "\n",
    "while malditos <= len([1,2,3,4,5,6,7,8,9]):\n",
    "    if malditos == 1:\n",
    "        print(malditos, \"elefante incomoda muita gente\", malditos + 1 ,\"elefantes incomodam muito mais\")\n",
    "    else:\n",
    "        print(malditos, \"elefante incomodam muita gente\", malditos + 1 ,\"elefantes\", morte * malditos ,\"muito mais\")\n",
    "    malditos +=1"
   ]
  },
  {
   "cell_type": "code",
   "execution_count": 34,
   "metadata": {},
   "outputs": [
    {
     "name": "stdout",
     "output_type": "stream",
     "text": [
      "Mariana conta 1 Mariana conta 1 , é  [1]\n",
      "Mariana conta 2 Mariana conta 2 , é  [1, 2]\n",
      "Mariana conta 3 Mariana conta 3 , é  [1, 2, 3]\n",
      "Mariana conta 4 Mariana conta 4 , é  [1, 2, 3, 4]\n",
      "Mariana conta 5 Mariana conta 5 , é  [1, 2, 3, 4, 5]\n",
      "Mariana conta 6 Mariana conta 6 , é  [1, 2, 3, 4, 5, 6]\n",
      "Mariana conta 7 Mariana conta 7 , é  [1, 2, 3, 4, 5, 6, 7]\n",
      "Mariana conta 8 Mariana conta 8 , é  [1, 2, 3, 4, 5, 6, 7, 8]\n",
      "Mariana conta 9 Mariana conta 9 , é  [1, 2, 3, 4, 5, 6, 7, 8, 9]\n",
      "Mariana conta 10 Mariana conta 10 , é  [1, 2, 3, 4, 5, 6, 7, 8, 9, 10]\n"
     ]
    }
   ],
   "source": [
    "maldita = 1\n",
    "desgraça = \"é \"\n",
    "morte = [1,2,3,4,5,6,7,8,9,10]\n",
    "\n",
    "\n",
    "while maldita <=  len([1,2,3,4,5,6,7,8,9,10]):\n",
    "    print(\"Mariana conta\", maldita , \"Mariana conta\", maldita ,\",\", desgraça , morte[0:maldita]  )\n",
    "    maldita +=1"
   ]
  }
 ],
 "metadata": {
  "kernelspec": {
   "display_name": "Python 3",
   "language": "python",
   "name": "python3"
  },
  "language_info": {
   "codemirror_mode": {
    "name": "ipython",
    "version": 3
   },
   "file_extension": ".py",
   "mimetype": "text/x-python",
   "name": "python",
   "nbconvert_exporter": "python",
   "pygments_lexer": "ipython3",
   "version": "3.11.4"
  }
 },
 "nbformat": 4,
 "nbformat_minor": 2
}
